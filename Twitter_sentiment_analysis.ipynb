{
 "cells": [
  {
   "cell_type": "code",
   "execution_count": 2,
   "metadata": {},
   "outputs": [],
   "source": [
    "from textblob import TextBlob"
   ]
  },
  {
   "cell_type": "code",
   "execution_count": 3,
   "metadata": {},
   "outputs": [],
   "source": [
    "review = 'Camera quality is not very good'\n",
    "review1 = 'camera have excellent features'"
   ]
  },
  {
   "cell_type": "code",
   "execution_count": 4,
   "metadata": {},
   "outputs": [],
   "source": [
    "analysis = TextBlob(review1) "
   ]
  },
  {
   "cell_type": "code",
   "execution_count": 5,
   "metadata": {},
   "outputs": [
    {
     "data": {
      "text/plain": [
       "1.0"
      ]
     },
     "execution_count": 5,
     "metadata": {},
     "output_type": "execute_result"
    }
   ],
   "source": [
    "analysis.polarity"
   ]
  },
  {
   "cell_type": "code",
   "execution_count": 6,
   "metadata": {},
   "outputs": [],
   "source": [
    "import re \n",
    "import tweepy \n",
    "from tweepy import OAuthHandler  # twitter app authentication\n",
    "from textblob import TextBlob \n",
    "import pandas as pd\n",
    "import matplotlib.pyplot as plt\n",
    "%matplotlib inline\n"
   ]
  },
  {
   "cell_type": "code",
   "execution_count": 7,
   "metadata": {},
   "outputs": [],
   "source": [
    "# Get the below strings/api codes from developer.twitter.com\n",
    "# Step 1: Login to twitter and visit the developer site\n",
    "# Step 2 : Navigate to \"Create a new App\"\n",
    "# Step 3 : fill the details accordingly\n",
    "# Step 4 : api keys are now generated\n",
    "# keys and tokens from the Twitter Dev Console \n",
    "consumer_key = 'VJFZEdGk7cyzbbKVPaPaAIPgs'\n",
    "consumer_secret = 'WcA3PZ0ZYNuad524X3qUx97ExiEmI0gULZ3JcMMwmxn920xxC7'\n",
    "access_token = '3257684406-kh5gJuLncLMe9o1kQVKS60FH47XmITXMUgo4qmB'\n",
    "access_token_secret = 'BPg3GA7pSj86qvFqzmCXPCBGQeaSuPXRKdkP2UC1W85A1'"
   ]
  },
  {
   "cell_type": "code",
   "execution_count": 8,
   "metadata": {},
   "outputs": [],
   "source": [
    "# attempt authentication \n",
    "\n",
    "# create OAuthHandler object \n",
    "auth = OAuthHandler(consumer_key, consumer_secret) \n",
    "    \n",
    "# set access token and secret \n",
    "auth.set_access_token(access_token, access_token_secret) \n",
    "    \n",
    "# create tweepy API object to fetch tweets \n",
    "api = tweepy.API(auth,wait_on_rate_limit=True) "
   ]
  },
  {
   "cell_type": "code",
   "execution_count": 9,
   "metadata": {},
   "outputs": [],
   "source": [
    "# 1. removing @username\n",
    "# 2. tabs \n",
    "# 3. non words and other spaces\n",
    "def clean_tweet(tweet): \n",
    "    ''' \n",
    "        Utility function to clean tweet text by removing links, special characters \n",
    "        using simple regex statements. \n",
    "    '''\n",
    "    return ' '.join(re.sub(\"(@[A-Za-z0-9]+)|([^0-9A-Za-z \\t])|(\\w+:\\/\\/\\S+)\", \"\", tweet).split()) \n"
   ]
  },
  {
   "cell_type": "code",
   "execution_count": 10,
   "metadata": {},
   "outputs": [],
   "source": [
    "# Using text blob from above, we calculate the polarity score\n",
    "# textblob has a corpus of positive, negative and neutral words\n",
    "# It checks for the presence of these words in the document and calculates the overall\n",
    "# polarity\n",
    "\n",
    "def get_tweet_sentiment(tweet): \n",
    "    ''' \n",
    "    Utility function to classify sentiment of passed tweet \n",
    "    using textblob's sentiment method \n",
    "    '''\n",
    "    # create TextBlob object of passed tweet text \n",
    "    analysis = TextBlob(clean_tweet(tweet)) \n",
    "    # set sentiment \n",
    "    if analysis.sentiment.polarity > 0: \n",
    "        return 'positive'\n",
    "    elif analysis.sentiment.polarity == 0: \n",
    "        return 'neutral'\n",
    "    else: \n",
    "        return 'negative'"
   ]
  },
  {
   "cell_type": "code",
   "execution_count": 28,
   "metadata": {},
   "outputs": [],
   "source": [
    "# empty list to store parsed tweets \n",
    "tweets = [] \n",
    "\n",
    "# call twitter api to fetch tweets \n",
    "# count = 20\n",
    "# The number of tweets to return per page, up to a maximum of 100. \n",
    "# Defaults to 15.\n",
    "# This restriction is due to a security update from the Twitter API\n",
    "# We will get rid of this limitation using the new \n",
    "# tweepy.Cursor() method\n",
    "\n",
    "#fetched_tweets = api.search(q = \"chidambaram\", count = 100)\n",
    "fetched_tweets=tweepy.Cursor(api.search,q=\"sehwag\").items(40)\n",
    "\n",
    "# parsing tweets one by one \n",
    "for tweet in fetched_tweets: \n",
    "    # empty dictionary to store required params of a tweet \n",
    "    parsed_tweet = {} \n",
    "\n",
    "    # saving text of tweet \n",
    "    parsed_tweet['text'] = tweet.text\n",
    "\n",
    "    \n",
    "    # saving sentiment of tweet \n",
    "    parsed_tweet['sentiment'] = get_tweet_sentiment(tweet=clean_tweet(tweet.text)) \n",
    "\n",
    "    # appending parsed tweet to tweets list \n",
    "    if tweet.retweet_count > 0: \n",
    "        # if tweet has retweets, ensure that it is appended only once \n",
    "        if parsed_tweet not in tweets: \n",
    "            tweets.append(parsed_tweet) \n",
    "    else: \n",
    "        tweets.append(parsed_tweet) "
   ]
  },
  {
   "cell_type": "code",
   "execution_count": 29,
   "metadata": {},
   "outputs": [
    {
     "data": {
      "text/plain": [
       "27"
      ]
     },
     "execution_count": 29,
     "metadata": {},
     "output_type": "execute_result"
    }
   ],
   "source": [
    "len(tweets)"
   ]
  },
  {
   "cell_type": "code",
   "execution_count": 30,
   "metadata": {},
   "outputs": [
    {
     "data": {
      "text/plain": [
       "[{'text': 'RT @coolfunnytshirt: This was probably the best moment of the day when Sachin, Sehwag and Lara ran into Rishabh Pant to hug him after the w…',\n",
       "  'sentiment': 'positive'},\n",
       " {'text': '@RishabhPant17 Great Show Rishabh bhai...proud of you.. its tough to fill the shoes of sehwag ji, but you are on course to fill the same..',\n",
       "  'sentiment': 'positive'},\n",
       " {'text': 'RT @ruchirsharma_1: Can confirm. In fact, this magic works with all Delhi Ranji cricketers.\\n\\nBack in the early 2000s, I met @Amitbhandari11…',\n",
       "  'sentiment': 'positive'},\n",
       " {'text': 'ऑस्ट्रेलिया में जीत के बाद सहवाग ने किया मजेदार ट्वीट, बोले आज से ब्रिस्बेन का नाम.... \\n\\n#RishabhPant… https://t.co/xLKgWnqicC',\n",
       "  'sentiment': 'neutral'},\n",
       " {'text': 'लैंगर बोले- भारत को कम आंकने की भूल कभी नहीं करेंगे, वीरू ने दिया टका सा जवाब https://t.co/6GWsJWv9ld',\n",
       "  'sentiment': 'neutral'},\n",
       " {'text': '1. India has unearthed a gem of an opener with @RealShubmanGill. It might even be that he is more suited for middle… https://t.co/i46ErUgjqd',\n",
       "  'sentiment': 'positive'},\n",
       " {'text': \"If you're still not convinced on his batting , he has 7 200s as a captain and it's the most by any, highest 200s by… https://t.co/mtypFrSilO\",\n",
       "  'sentiment': 'positive'},\n",
       " {'text': '‘Aaj se Brisbane ka naam Pant Nagar’: Virender Sehwag lauds Rishabh Pant’s match-winning effort with hilarious\\xa0meme https://t.co/xzssEVBiaw',\n",
       "  'sentiment': 'neutral'},\n",
       " {'text': '@virendersehwag @RishabhPant17 Soch choti pad gyi Sehwag ji aapki. Agar isbar jeetein hain to next time fir jeetenge.',\n",
       "  'sentiment': 'neutral'},\n",
       " {'text': '@KING_RO45 Nope. Sehwag is also world class!',\n",
       "  'sentiment': 'neutral'}]"
      ]
     },
     "execution_count": 30,
     "metadata": {},
     "output_type": "execute_result"
    }
   ],
   "source": [
    "tweets[5:15]"
   ]
  },
  {
   "cell_type": "code",
   "execution_count": 31,
   "metadata": {},
   "outputs": [
    {
     "name": "stdout",
     "output_type": "stream",
     "text": [
      "Positive tweets percentage: 44.44444444444444 %\n"
     ]
    }
   ],
   "source": [
    "# picking positive tweets from tweets \n",
    "ptweets = [tweet for tweet in tweets if tweet['sentiment'] == 'positive'] \n",
    "# percentage of positive tweets \n",
    "print(\"Positive tweets percentage: {} %\".format(100*len(ptweets)/len(tweets))) "
   ]
  },
  {
   "cell_type": "code",
   "execution_count": 32,
   "metadata": {},
   "outputs": [
    {
     "name": "stdout",
     "output_type": "stream",
     "text": [
      "Negative tweets percentage: 3.7037037037037037 %\n"
     ]
    }
   ],
   "source": [
    "# picking negative tweets from tweets \n",
    "ntweets = [tweet for tweet in tweets if tweet['sentiment'] == 'negative'] \n",
    "# percentage of negative tweets \n",
    "print(\"Negative tweets percentage: {} %\".format(100*len(ntweets)/len(tweets))) "
   ]
  },
  {
   "cell_type": "code",
   "execution_count": 33,
   "metadata": {},
   "outputs": [
    {
     "name": "stdout",
     "output_type": "stream",
     "text": [
      "Neutral tweets percentage: 51.851851851851855 %\n"
     ]
    }
   ],
   "source": [
    "# percentage of neutral tweets \n",
    "print(\"Neutral tweets percentage: {} %\".format(100*(len(tweets) - len(ntweets) - len(ptweets))/len(tweets))) "
   ]
  },
  {
   "cell_type": "code",
   "execution_count": 34,
   "metadata": {},
   "outputs": [
    {
     "name": "stdout",
     "output_type": "stream",
     "text": [
      "                 0\n",
      "ptweets         12\n",
      "ntweets          1\n",
      "nuetral_tweets  14\n"
     ]
    }
   ],
   "source": [
    "df_tweets_cnt = pd.DataFrame(pd.concat([pd.Series(len(ptweets)), pd.Series(len(ntweets)), pd.Series( (len(tweets) - len(ntweets) - len(ptweets))) ],axis=0 ))\n",
    "df_tweets_cnt.set_index(pd.Series(['ptweets', 'ntweets', 'nuetral_tweets']), inplace=True)\n",
    "print(df_tweets_cnt)"
   ]
  },
  {
   "cell_type": "code",
   "execution_count": 18,
   "metadata": {},
   "outputs": [
    {
     "name": "stdout",
     "output_type": "stream",
     "text": [
      "\n",
      "\n",
      "Positive tweets:\n",
      "After the excellent gain of yesterday the market extended the rally and now very close to the magical 50000 levels\n",
      "Sensex up 39383 points to end at lifetime high of 4979212 Nifty up 12355 points to ckose at record 1464470\n",
      "Breaking News BSE Sensex jumps 39383 pts to end at lifetime high of 4979212 bring it closer to the key psych\n",
      "RT News BSE Sensex jumps 39383 pts to end at lifetime high of 4979212 NSE Nifty soars 12355 pts to record 1464470\n",
      "RT Sensex ends at record high of 49792\n",
      "Sensex ends at record high of 49792 Nifty at 14645\n",
      "BSE Sensex jumps 39383 pts to end at lifetime high of 4979212 NSE Nifty soars 12355 pts to record 1464470\n",
      "Markets BSE Sensex jumps 39383 pts to end at lifetime high of 4979212 NSE Nifty soars 12355 pts to record 1464470PTI\n",
      "Sensex surges 394 points to hit fresh closing high Nifty ends near 14650\n",
      "BSE Sensex jumps 39383 pts to end at lifetime high of 4979212 NSE Nifty soars 12355 pts to record 1464470\n"
     ]
    }
   ],
   "source": [
    "# printing first 10 positive tweets \n",
    "print(\"\\n\\nPositive tweets:\") \n",
    "for tweet in ptweets[:10]: \n",
    "    print(clean_tweet(tweet['text'])) "
   ]
  },
  {
   "cell_type": "code",
   "execution_count": 19,
   "metadata": {},
   "outputs": [
    {
     "name": "stdout",
     "output_type": "stream",
     "text": [
      "\n",
      "\n",
      "Negative tweets:\n",
      "Bullish\n",
      "\n",
      "Sensex will hit 50000 because of this. I pity you, if you are sitting on cash. https://t.co/1WJsooM0eN\n"
     ]
    }
   ],
   "source": [
    "# printing first 10 negative tweets \n",
    "print(\"\\n\\nNegative tweets:\") \n",
    "for tweet in ntweets[:10]: \n",
    "    print(tweet['text']) "
   ]
  },
  {
   "cell_type": "code",
   "execution_count": 20,
   "metadata": {},
   "outputs": [
    {
     "data": {
      "text/plain": [
       "<matplotlib.axes._subplots.AxesSubplot at 0x1e6ec35a280>"
      ]
     },
     "execution_count": 20,
     "metadata": {},
     "output_type": "execute_result"
    },
    {
     "data": {
      "image/png": "[encoded data removed]",
      "text/plain": [
       "<Figure size 432x288 with 1 Axes>"
      ]
     },
     "metadata": {
      "needs_background": "light"
     },
     "output_type": "display_data"
    }
   ],
   "source": [
    "df_tweets_cnt.plot(kind='bar')"
   ]
  },
  {
   "cell_type": "code",
   "execution_count": null,
   "metadata": {},
   "outputs": [],
   "source": []
  },
  {
   "cell_type": "code",
   "execution_count": null,
   "metadata": {},
   "outputs": [],
   "source": []
  },
  {
   "cell_type": "code",
   "execution_count": null,
   "metadata": {},
   "outputs": [],
   "source": []
  }
 ],
 "metadata": {
  "kernelspec": {
   "display_name": "Python 3",
   "language": "python",
   "name": "python3"
  },
  "language_info": {
   "codemirror_mode": {
    "name": "ipython",
    "version": 3
   },
   "file_extension": ".py",
   "mimetype": "text/x-python",
   "name": "python",
   "nbconvert_exporter": "python",
   "pygments_lexer": "ipython3",
   "version": "3.8.3"
  }
 },
 "nbformat": 4,
 "nbformat_minor": 2
}
